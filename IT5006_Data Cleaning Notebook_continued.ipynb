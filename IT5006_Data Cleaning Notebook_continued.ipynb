{
 "cells": [
  {
   "cell_type": "code",
   "execution_count": null,
   "id": "bd35b970-c659-4839-9f54-6b165b509371",
   "metadata": {
    "id": "bd35b970-c659-4839-9f54-6b165b509371"
   },
   "outputs": [],
   "source": [
    "import pandas as pd\n",
    "import numpy as np\n",
    "import matplotlib.pyplot as plt\n",
    "import seaborn as sns\n",
    "\n",
    "%matplotlib inline\n",
    "\n",
    "# display all columns\n",
    "pd.set_option('display.max_columns', None)\n",
    "# display all rows\n",
    "pd.set_option('display.max_rows', None)"
   ]
  },
  {
   "cell_type": "code",
   "execution_count": null,
   "id": "54bf1f5a-502e-46d1-a81b-c6d6886d46e2",
   "metadata": {},
   "outputs": [],
   "source": [
    "def print_all_columns(a):\n",
    "    a = list(a)\n",
    "    a.sort()\n",
    "    return a"
   ]
  },
  {
   "cell_type": "markdown",
   "id": "e561b0d1",
   "metadata": {},
   "source": [
    "# Preprocessing\n",
    "\n",
    "We did some processing using Excel: </br>\n",
    "- Categorize and label all questions based on the topics</br>\n",
    "- Relabel dataset header with categorized questions</br>\n"
   ]
  },
  {
   "cell_type": "markdown",
   "id": "f093d048-94a3-454b-9c58-902fd125a216",
   "metadata": {
    "id": "f093d048-94a3-454b-9c58-902fd125a216"
   },
   "source": [
    "# Data Cleaning for 2022 Survey Data"
   ]
  },
  {
   "cell_type": "code",
   "execution_count": null,
   "id": "7f4d5a0b-81e7-4b8e-ad5a-eb3d64a65f6a",
   "metadata": {
    "id": "7f4d5a0b-81e7-4b8e-ad5a-eb3d64a65f6a"
   },
   "outputs": [],
   "source": [
    "data_2022 = pd.read_excel(\"kaggle_survey_2022_2021_2020_responses_SB.xlsx\", sheet_name= 'survey_2022')"
   ]
  },
  {
   "cell_type": "markdown",
   "id": "610543bc-5f9d-43a0-adb7-f67c1fbe46e0",
   "metadata": {
    "id": "610543bc-5f9d-43a0-adb7-f67c1fbe46e0"
   },
   "source": [
    "## Clearing columns"
   ]
  },
  {
   "cell_type": "code",
   "execution_count": null,
   "id": "818dd553-9ade-4cc5-995c-e5843b0b0b64",
   "metadata": {
    "id": "818dd553-9ade-4cc5-995c-e5843b0b0b64"
   },
   "outputs": [],
   "source": [
    "row_to_check = 0\n",
    "\n",
    "cols_to_drop = []\n",
    "\n",
    "for column in data_2022.columns:\n",
    "    # Check if the word is present in the cell at the specified row and column\n",
    "    if data_2022.at[row_to_check, column] == \"drop\":\n",
    "        cols_to_drop.append(column)\n",
    "\n",
    "# Drop the selected columns\n",
    "data2022 = data_2022.drop(columns=cols_to_drop)"
   ]
  },
  {
   "cell_type": "code",
   "execution_count": null,
   "id": "7d8db065-d020-47ae-a34c-2235943ef270",
   "metadata": {
    "id": "7d8db065-d020-47ae-a34c-2235943ef270"
   },
   "outputs": [],
   "source": [
    "# strip whitespace in column headers\n",
    "data2022.columns = data2022.columns.str.strip()"
   ]
  },
  {
   "cell_type": "markdown",
   "id": "b075331a-8258-4e40-b35a-bf44dcc30e8a",
   "metadata": {
    "id": "b075331a-8258-4e40-b35a-bf44dcc30e8a"
   },
   "source": [
    "## Clearing rows"
   ]
  },
  {
   "cell_type": "markdown",
   "id": "692b5748-d5ab-489f-bd72-2832029546b5",
   "metadata": {
    "id": "692b5748-d5ab-489f-bd72-2832029546b5"
   },
   "source": [
    "### Removing 1st 3 rows of dataframe"
   ]
  },
  {
   "cell_type": "code",
   "execution_count": null,
   "id": "H0rZvR27sr9R",
   "metadata": {
    "colab": {
     "base_uri": "https://localhost:8080/"
    },
    "id": "H0rZvR27sr9R",
    "outputId": "4919e0ce-9ab7-4a4e-b319-7b776f6a0594"
   },
   "outputs": [],
   "source": [
    "questions = data2022.iloc[2]\n",
    "\n",
    "columns = data2022.columns\n",
    "columns = columns.str.replace(r'\\d+', '', regex=True)\n",
    "columns = columns.str.strip()\n",
    "\n",
    "new_columns = []\n",
    "i = 0\n",
    "for dat in questions:\n",
    "    new_name = columns[i]\n",
    "    question_split = dat.split(' - ')\n",
    "\n",
    "    if len(question_split) > 1:\n",
    "        ans = question_split[-1].strip()\n",
    "        new_name = new_name + ' - ' + ans\n",
    "    new_columns.append(new_name)\n",
    "    i += 1\n",
    "\n",
    "\n",
    "data2022.columns = new_columns\n",
    "\n",
    "print_all_columns(data2022.columns)"
   ]
  },
  {
   "cell_type": "code",
   "execution_count": null,
   "id": "c0a37d7b-ad89-41a6-9d94-f6156b1fbe9d",
   "metadata": {
    "id": "c0a37d7b-ad89-41a6-9d94-f6156b1fbe9d"
   },
   "outputs": [],
   "source": [
    "data2022= data2022.iloc[3:].reset_index(drop=True)"
   ]
  },
  {
   "cell_type": "markdown",
   "id": "0ec17406-3582-470d-a0a5-5eae08ac2d4e",
   "metadata": {
    "id": "0ec17406-3582-470d-a0a5-5eae08ac2d4e"
   },
   "source": [
    "## Add year column to the dataframe"
   ]
  },
  {
   "cell_type": "code",
   "execution_count": null,
   "id": "79695757-6c61-4087-9e38-ff7a3ce93031",
   "metadata": {
    "id": "79695757-6c61-4087-9e38-ff7a3ce93031"
   },
   "outputs": [],
   "source": [
    "data2022['year'] = 2022"
   ]
  },
  {
   "cell_type": "markdown",
   "id": "6ff31ce9-3e06-4371-a270-20c5a4b75003",
   "metadata": {
    "id": "6ff31ce9-3e06-4371-a270-20c5a4b75003"
   },
   "source": [
    "# Data Cleaning for 2021 Survey Data"
   ]
  },
  {
   "cell_type": "code",
   "execution_count": null,
   "id": "987cbabb-2951-4f12-a031-3fccfd47232d",
   "metadata": {
    "id": "987cbabb-2951-4f12-a031-3fccfd47232d"
   },
   "outputs": [],
   "source": [
    "data_2021 = pd.read_excel(\"kaggle_survey_2022_2021_2020_responses_SB.xlsx\", sheet_name= 'survey_2021')"
   ]
  },
  {
   "cell_type": "markdown",
   "id": "d980bcc9-8c6a-4248-a473-f784642ef7b5",
   "metadata": {
    "id": "d980bcc9-8c6a-4248-a473-f784642ef7b5"
   },
   "source": [
    "## Clearing columns"
   ]
  },
  {
   "cell_type": "code",
   "execution_count": null,
   "id": "a3f97586-4d0a-46b6-970d-8011712a45b9",
   "metadata": {
    "id": "a3f97586-4d0a-46b6-970d-8011712a45b9"
   },
   "outputs": [],
   "source": [
    "row_to_check = 0\n",
    "\n",
    "cols_to_drop = []\n",
    "\n",
    "for column in data_2021.columns:\n",
    "    # Check if the word is present in the cell at the specified row and column\n",
    "    if data_2021.at[row_to_check, column] == \"drop\":\n",
    "        cols_to_drop.append(column)\n",
    "\n",
    "# Drop the selected columns\n",
    "data2021 = data_2021.drop(columns=cols_to_drop)"
   ]
  },
  {
   "cell_type": "code",
   "execution_count": null,
   "id": "11b42686-f3a8-4c4a-9ee0-60505d853730",
   "metadata": {
    "id": "11b42686-f3a8-4c4a-9ee0-60505d853730"
   },
   "outputs": [],
   "source": [
    "# strip whitespace in column headers\n",
    "data2021.columns = data2021.columns.str.strip()"
   ]
  },
  {
   "cell_type": "markdown",
   "id": "798a20b9-f979-4fdf-9ff4-0c46577344b2",
   "metadata": {
    "id": "798a20b9-f979-4fdf-9ff4-0c46577344b2"
   },
   "source": [
    "## Clearing rows"
   ]
  },
  {
   "cell_type": "markdown",
   "id": "e409e733-b70d-462b-8782-cc6a5215bc93",
   "metadata": {
    "id": "e409e733-b70d-462b-8782-cc6a5215bc93"
   },
   "source": [
    "### Removing 1st 3 rows of dataframe"
   ]
  },
  {
   "cell_type": "code",
   "execution_count": null,
   "id": "kuGqi0LXvHWC",
   "metadata": {
    "colab": {
     "base_uri": "https://localhost:8080/"
    },
    "id": "kuGqi0LXvHWC",
    "outputId": "c394ad72-04f3-4a27-cceb-375b12519ddc"
   },
   "outputs": [],
   "source": [
    "questions = data2021.iloc[2]\n",
    "\n",
    "columns = data2021.columns\n",
    "columns = columns.str.replace(r'\\d+', '', regex=True)\n",
    "columns = columns.str.strip()\n",
    "\n",
    "new_columns = []\n",
    "i = 0\n",
    "for dat in questions:\n",
    "    new_name = columns[i]\n",
    "    question_split = dat.split(' - ')\n",
    "\n",
    "    if len(question_split) > 1:\n",
    "        ans = question_split[-1].strip()\n",
    "        new_name = new_name + ' - ' + ans\n",
    "    new_columns.append(new_name)\n",
    "    i += 1\n",
    "\n",
    "\n",
    "data2021.columns = new_columns\n",
    "\n",
    "print_all_columns(data2021.columns)"
   ]
  },
  {
   "cell_type": "code",
   "execution_count": null,
   "id": "99e8a37a-b86c-4a13-9011-6aad3d6d4d60",
   "metadata": {
    "id": "99e8a37a-b86c-4a13-9011-6aad3d6d4d60"
   },
   "outputs": [],
   "source": [
    "data2021= data2021.iloc[3:].reset_index(drop=True)"
   ]
  },
  {
   "cell_type": "markdown",
   "id": "7c5805d4-ec22-4235-b1e5-bff453a5a71e",
   "metadata": {
    "id": "7c5805d4-ec22-4235-b1e5-bff453a5a71e"
   },
   "source": [
    "## Add year column to the dataframe"
   ]
  },
  {
   "cell_type": "code",
   "execution_count": null,
   "id": "ef7e6f34-3411-4a87-a2a2-de1a755341ac",
   "metadata": {
    "id": "ef7e6f34-3411-4a87-a2a2-de1a755341ac"
   },
   "outputs": [],
   "source": [
    "data2021['year'] = 2021"
   ]
  },
  {
   "cell_type": "markdown",
   "id": "c7bb7778-301d-4c31-bc01-c147d75c678e",
   "metadata": {
    "id": "c7bb7778-301d-4c31-bc01-c147d75c678e"
   },
   "source": [
    "# Data Cleaning for 2020 Survey Data"
   ]
  },
  {
   "cell_type": "code",
   "execution_count": null,
   "id": "dc2fe4df-1cb4-46a3-9312-fc10001abe18",
   "metadata": {
    "id": "dc2fe4df-1cb4-46a3-9312-fc10001abe18"
   },
   "outputs": [],
   "source": [
    "data_2020 = pd.read_excel(\"kaggle_survey_2022_2021_2020_responses_SB.xlsx\", sheet_name= 'survey_2020')"
   ]
  },
  {
   "cell_type": "code",
   "execution_count": null,
   "id": "1768e689-f28f-41ad-9424-5515d0aad3e7",
   "metadata": {
    "colab": {
     "base_uri": "https://localhost:8080/",
     "height": 481
    },
    "id": "1768e689-f28f-41ad-9424-5515d0aad3e7",
    "outputId": "b6c3fc35-afaf-4a33-f597-0f162e1ef696"
   },
   "outputs": [],
   "source": [
    "data_2020.head()"
   ]
  },
  {
   "cell_type": "markdown",
   "id": "d085cb5e-42a1-4d92-8b37-a0826e5d366c",
   "metadata": {
    "id": "d085cb5e-42a1-4d92-8b37-a0826e5d366c"
   },
   "source": [
    "## Clearing columns"
   ]
  },
  {
   "cell_type": "code",
   "execution_count": null,
   "id": "b12e4c07-878d-4aba-81fc-181b2176e6b2",
   "metadata": {
    "id": "b12e4c07-878d-4aba-81fc-181b2176e6b2"
   },
   "outputs": [],
   "source": [
    "row_to_check = 0\n",
    "\n",
    "cols_to_drop = []\n",
    "\n",
    "for column in data_2020.columns:\n",
    "    # Check if the word is present in the cell at the specified row and column\n",
    "    if data_2020.at[row_to_check, column] == \"drop\":\n",
    "        cols_to_drop.append(column)\n",
    "\n",
    "# Drop the selected columns\n",
    "data2020 = data_2020.drop(columns=cols_to_drop)"
   ]
  },
  {
   "cell_type": "code",
   "execution_count": null,
   "id": "24797fb4-54cb-489a-ba41-e6fab072edab",
   "metadata": {
    "colab": {
     "background_save": true
    },
    "id": "24797fb4-54cb-489a-ba41-e6fab072edab"
   },
   "outputs": [],
   "source": [
    "# strip whitespace in column headers\n",
    "data2020.columns = data2020.columns.str.strip()"
   ]
  },
  {
   "cell_type": "markdown",
   "id": "b9ebb52c-1acc-4cda-8910-681020af87de",
   "metadata": {
    "id": "b9ebb52c-1acc-4cda-8910-681020af87de"
   },
   "source": [
    "## Clearing rows"
   ]
  },
  {
   "cell_type": "markdown",
   "id": "2e9e75be-259a-48e9-96aa-ca1eb36153ef",
   "metadata": {
    "id": "2e9e75be-259a-48e9-96aa-ca1eb36153ef"
   },
   "source": [
    "### Removing 1st 3 rows of dataframe"
   ]
  },
  {
   "cell_type": "code",
   "execution_count": null,
   "id": "HlEwNDdmvMAY",
   "metadata": {
    "colab": {
     "background_save": true,
     "base_uri": "https://localhost:8080/"
    },
    "id": "HlEwNDdmvMAY",
    "outputId": "49bd3e40-0007-41a0-ce69-bdf2dfebaed9"
   },
   "outputs": [],
   "source": [
    "questions = data2020.iloc[2]\n",
    "\n",
    "columns = data2020.columns\n",
    "columns = columns.str.replace(r'\\d+', '', regex=True)\n",
    "columns = columns.str.strip()\n",
    "\n",
    "new_columns = []\n",
    "i = 0\n",
    "for dat in questions:\n",
    "    new_name = columns[i]\n",
    "    question_split = dat.split(' - ')\n",
    "\n",
    "    if len(question_split) > 1:\n",
    "        ans = question_split[-1].strip()\n",
    "        new_name = new_name + ' - ' + ans\n",
    "    new_columns.append(new_name)\n",
    "    i += 1\n",
    "\n",
    "\n",
    "data2020.columns = new_columns\n",
    "\n",
    "print_all_columns(data2020.columns)"
   ]
  },
  {
   "cell_type": "code",
   "execution_count": null,
   "id": "f37b3666-f4c0-4980-a2db-d46828242d7d",
   "metadata": {
    "colab": {
     "background_save": true
    },
    "id": "f37b3666-f4c0-4980-a2db-d46828242d7d"
   },
   "outputs": [],
   "source": [
    "data2020= data2020.iloc[3:].reset_index(drop=True)"
   ]
  },
  {
   "cell_type": "markdown",
   "id": "a758374e-b069-40b3-8d86-ad74791caa70",
   "metadata": {
    "id": "a758374e-b069-40b3-8d86-ad74791caa70"
   },
   "source": [
    "## Add year column to the dataframe"
   ]
  },
  {
   "cell_type": "code",
   "execution_count": null,
   "id": "c0eb6038-dc27-48d7-a231-9be52130dc4c",
   "metadata": {
    "colab": {
     "background_save": true
    },
    "id": "c0eb6038-dc27-48d7-a231-9be52130dc4c"
   },
   "outputs": [],
   "source": [
    "data2020['year'] = 2020"
   ]
  },
  {
   "cell_type": "markdown",
   "id": "8718e055-8157-4881-b865-abb1f515643e",
   "metadata": {
    "id": "8718e055-8157-4881-b865-abb1f515643e"
   },
   "source": [
    "# Combining all three dataframes (2022, 2021, 2020) into one (datacomb)"
   ]
  },
  {
   "cell_type": "code",
   "execution_count": null,
   "id": "bb1de950-a77c-4d68-bcf9-6e5ab2d750cf",
   "metadata": {
    "colab": {
     "background_save": true,
     "base_uri": "https://localhost:8080/",
     "height": 868
    },
    "id": "bb1de950-a77c-4d68-bcf9-6e5ab2d750cf",
    "outputId": "ecedf8ed-7b27-41b9-b994-368a7671b023"
   },
   "outputs": [],
   "source": [
    "datacomb = pd.concat([data2022, data2021, data2020], axis=0)"
   ]
  },
  {
   "cell_type": "code",
   "execution_count": null,
   "id": "e590f6f0-e747-43ba-8c39-fddebf853206",
   "metadata": {},
   "outputs": [],
   "source": [
    "# check for similar, mergeable columns\n",
    "print_all_columns(datacomb.columns)"
   ]
  },
  {
   "cell_type": "code",
   "execution_count": null,
   "id": "19bb1246-ff60-4863-9e08-630a18abdd17",
   "metadata": {},
   "outputs": [],
   "source": [
    "datacomb = datacomb.drop(['Popular IDEs - Click to write Choice 13'], axis=1)"
   ]
  },
  {
   "cell_type": "code",
   "execution_count": null,
   "id": "d06e6ffd-27e1-4a07-9de0-28bd461cfc9c",
   "metadata": {},
   "outputs": [],
   "source": [
    "datacomb['Popular auto ML product brand - H2O Driverless AI'] = np.where(~datacomb['Popular auto ML product brand - H20 Driverless AI'].isna() | \n",
    "                                                                         ~datacomb['Popular auto ML product brand - H2O Driverless AI'].isna(),'H2O Driverless AI',None)\n",
    "datacomb['Popular auto ML product brand - H2O Driverless AI'].value_counts()\n",
    "datacomb = datacomb.drop(['Popular auto ML product brand - H20 Driverless AI'], axis=1)"
   ]
  },
  {
   "cell_type": "code",
   "execution_count": null,
   "id": "2475cae6-a372-463b-aab3-6fbcaba14354",
   "metadata": {},
   "outputs": [],
   "source": [
    "datacomb['Popular IDEs - Visual Studio / Visual Studio Code'] = np.where(~datacomb['Popular IDEs - Visual Studio / Visual Studio Code'].isna() | \n",
    "                                                                                   ~datacomb['Popular IDEs - Visual Studio'].isna() | \n",
    "                                                                                   ~datacomb['Popular IDEs - Visual Studio Code (VSCode)'].isna(),'Visual Studio / Visual Studio Code',None)\n",
    "datacomb['Popular IDEs - Visual Studio / Visual Studio Code'].value_counts()\n",
    "datacomb = datacomb.drop(['Popular IDEs - Visual Studio','Popular IDEs - Visual Studio Code (VSCode)'],axis=1)\n"
   ]
  },
  {
   "cell_type": "code",
   "execution_count": null,
   "id": "441406b8-3d4d-4c69-8182-8638fe9f08cc",
   "metadata": {},
   "outputs": [],
   "source": [
    "datacomb['Popular IDEs - Jupyter (JupyterLab, Jupyter Notebooks, etc)'] = np.where(~datacomb['Popular IDEs - Jupyter (JupyterLab, Jupyter Notebooks, etc)'].isna() | \n",
    "                                                                                   ~datacomb['Popular IDEs - Jupyter Notebook'].isna() | \n",
    "                                                                                   ~datacomb['Popular IDEs - JupyterLab'].isna(),'Jupyter (JupyterLab, Jupyter Notebooks, etc)',None)\n",
    "datacomb['Popular IDEs - Jupyter (JupyterLab, Jupyter Notebooks, etc)'].value_counts()\n",
    "datacomb = datacomb.drop(['Popular IDEs - Jupyter Notebook','Popular IDEs - JupyterLab'],axis=1)"
   ]
  },
  {
   "cell_type": "code",
   "execution_count": null,
   "id": "eeb87bd7-afaa-48f8-a6ae-813c1fec13eb",
   "metadata": {},
   "outputs": [],
   "source": [
    "datacomb['Popular Computer Vision Methods - Object detection methods (YOLO, RetinaNet, etc)'] = np.where(~datacomb['Popular Computer Vision Methods - Object detection methods (YOLOv3, RetinaNet, etc)'].isna() | \n",
    "                                                                                   ~datacomb['Popular Computer Vision Methods - Object detection methods (YOLOv6, RetinaNet, etc)'].isna(), 'Object detection methods (YOLO, RetinaNet, etc)',None)\n",
    "datacomb['Popular Computer Vision Methods - Object detection methods (YOLO, RetinaNet, etc)'].value_counts()\n",
    "datacomb = datacomb.drop(['Popular Computer Vision Methods - Object detection methods (YOLOv3, RetinaNet, etc)','Popular Computer Vision Methods - Object detection methods (YOLOv6, RetinaNet, etc)'],axis=1)\n"
   ]
  },
  {
   "cell_type": "code",
   "execution_count": null,
   "id": "ec0ef0cb-828b-47d4-bb6e-e9a7a5135633",
   "metadata": {},
   "outputs": [],
   "source": [
    "datacomb['Popular NLP Methods - Encoder-decoder models (seq2seq, vanilla transformers)'] = np.where(~datacomb['Popular NLP Methods - Encoder-decoder models (seq2seq, vanilla transformers)'].isna() | \n",
    "                                                                                   ~datacomb['Popular NLP Methods - Encoder-decorder models (seq2seq, vanilla transformers)'].isna(), 'Encoder-decoder models (seq2seq, vanilla transformers)',None)\n",
    "datacomb['Popular NLP Methods - Encoder-decoder models (seq2seq, vanilla transformers)'].value_counts()\n",
    "datacomb = datacomb.drop(['Popular NLP Methods - Encoder-decorder models (seq2seq, vanilla transformers)'],axis=1)\n"
   ]
  },
  {
   "cell_type": "code",
   "execution_count": null,
   "id": "745fb6bd-01aa-4cd7-8a7e-a35a01150aa8",
   "metadata": {},
   "outputs": [],
   "source": [
    "datacomb['Popular data product brands used (Databases, Warehouses, Lakes) - PostgreSQL'] = np.where(~datacomb['Popular data product brands used (Databases, Warehouses, Lakes) - PostgreSQL'].isna() | \n",
    "                                                                                   ~datacomb['Popular data product brands used (Databases, Warehouses, Lakes) - PostgresSQL'].isna(), 'PostgreSQL',None)\n",
    "datacomb['Popular data product brands used (Databases, Warehouses, Lakes) - PostgreSQL'].value_counts()\n",
    "datacomb = datacomb.drop(['Popular data product brands used (Databases, Warehouses, Lakes) - PostgresSQL'],axis=1)\n"
   ]
  },
  {
   "cell_type": "code",
   "execution_count": null,
   "id": "ace17423-f549-416c-9d38-a66efc6f461c",
   "metadata": {},
   "outputs": [],
   "source": [
    "datacomb['Popular media sources for Data Science - Podcasts (Chai Time Data Science, O’Reilly Data Show, etc)'] = np.where(~datacomb['Popular media sources for Data Science - Podcasts (Chai Time Data Science, O’Reilly Data Show, etc)'].isna() | \n",
    "                                                                                   ~datacomb['Popular media sources for Data Science - Podcasts (Chai Time Data Science, Oâ€™Reilly Data Show, etc)'].isna(), 'Podcasts (Chai Time Data Science, O’Reilly Data Show, etc)',None)\n",
    "datacomb['Popular data product brands used (Databases, Warehouses, Lakes) - PostgreSQL'].value_counts()\n",
    "datacomb = datacomb.drop(['Popular media sources for Data Science - Podcasts (Chai Time Data Science, Oâ€™Reilly Data Show, etc)'],axis=1)\n"
   ]
  },
  {
   "cell_type": "code",
   "execution_count": null,
   "id": "eabd30b3-196e-4ce4-9e4d-59aa45c83d52",
   "metadata": {},
   "outputs": [],
   "source": [
    "datacomb = datacomb.rename(columns={'Gender - Selected Choice': 'Gender'})"
   ]
  },
  {
   "cell_type": "code",
   "execution_count": null,
   "id": "fb38e751-5447-44de-ab2f-c0677facb51a",
   "metadata": {},
   "outputs": [],
   "source": [
    "print_all_columns(datacomb.columns)"
   ]
  },
  {
   "cell_type": "markdown",
   "id": "a101ad97-80da-460b-822d-34f06d2342d8",
   "metadata": {
    "id": "a101ad97-80da-460b-822d-34f06d2342d8",
    "tags": []
   },
   "source": [
    "# Cleaning up the 'Education level_attainedOrGGtoAttain' column"
   ]
  },
  {
   "cell_type": "code",
   "execution_count": null,
   "id": "d18e2b3d-0afa-4e82-8154-bb0531cf3c32",
   "metadata": {
    "colab": {
     "background_save": true
    },
    "id": "d18e2b3d-0afa-4e82-8154-bb0531cf3c32"
   },
   "outputs": [],
   "source": [
    "# there are some weird symbols in some cells\n",
    "\n",
    "replacement_dict = {\n",
    "    'Bachelor’s degree': 'bachelors',\n",
    "    'Master’s degree': 'masters',\n",
    "    'Some college/university study without earning a bachelor’s degree': 'college without bachelors',\n",
    "    'Doctoral degree':'doctoral',\n",
    "    'I prefer not to answer': None,\n",
    "    'Professional doctorate':'doctorate',\n",
    "    'No formal education past high school': 'high school and below',\n",
    "    'Bachelorâ€™s degree':'bachelors',\n",
    "    'Masterâ€™s degree': 'masters',\n",
    "    'Some college/university study without earning a bachelorâ€™s degree': 'college without bachelors',\n",
    "    'Professional degree': 'professional deg'}\n",
    "\n",
    "\n",
    "def replace_text(cell_value, replacements):\n",
    "    if cell_value is not None and not pd.isna(cell_value):\n",
    "        # Check if the cell_value is a float, and if so, convert it to a string.\n",
    "        if isinstance(cell_value, float):\n",
    "            cell_value = str(cell_value)\n",
    "        cell_value = replacements.get(cell_value,cell_value)\n",
    "    return cell_value\n",
    "\n",
    "datacomb['Education level_attainedOrGGtoAttain'] = datacomb['Education level_attainedOrGGtoAttain'].apply(replace_text, replacements=replacement_dict)\n"
   ]
  },
  {
   "cell_type": "code",
   "execution_count": null,
   "id": "00704507-62dc-4f8c-8b25-eb1fd6ad1d50",
   "metadata": {
    "colab": {
     "background_save": true,
     "base_uri": "https://localhost:8080/"
    },
    "id": "00704507-62dc-4f8c-8b25-eb1fd6ad1d50",
    "outputId": "e8154a05-39ef-4219-b12c-3fb41eec1212"
   },
   "outputs": [],
   "source": [
    "datacomb['Education level_attainedOrGGtoAttain'].unique()"
   ]
  },
  {
   "cell_type": "markdown",
   "id": "f5e21444-c51b-43a9-ae38-9d0a2870092c",
   "metadata": {},
   "source": [
    "# Cleaning the 'Job_Salary' column to reduce the number of categories"
   ]
  },
  {
   "cell_type": "code",
   "execution_count": null,
   "id": "7e09a291-281f-484f-b735-7cb02c6d1547",
   "metadata": {},
   "outputs": [],
   "source": [
    "datacomb['Job_Salary'].describe()"
   ]
  },
  {
   "cell_type": "code",
   "execution_count": null,
   "id": "6a2b9ecd-eeb6-4467-9456-0226471fa23e",
   "metadata": {},
   "outputs": [],
   "source": [
    "salary_counts = datacomb['Job_Salary'].value_counts()\n",
    "salary_counts.plot(kind='bar')\n"
   ]
  },
  {
   "cell_type": "code",
   "execution_count": null,
   "id": "5e34d4a6-a7e0-494b-83b0-10e1d26f6500",
   "metadata": {},
   "outputs": [],
   "source": [
    "def replace_text2(cell_value, replacements):\n",
    "    if cell_value is not None and not pd.isna(cell_value):\n",
    "        # Check if the cell_value is a float, and if so, convert it to a string.\n",
    "\n",
    "        cell_value = str(cell_value)\n",
    "        cell_value = replacements.get(cell_value,cell_value)\n",
    "    return cell_value"
   ]
  },
  {
   "cell_type": "code",
   "execution_count": null,
   "id": "de74cbc9-5e59-45b0-b7f1-e37f9bda3fb8",
   "metadata": {},
   "outputs": [],
   "source": [
    "salary_recat_dict = {\n",
    "'$0-999': '$0 to $0.999K',\n",
    "'1,000-1,999': '$1K to $9.999K',\n",
    "'2,000-2,999': '$1K to $9.999K',\n",
    "'3,000-3,999': '$1K to $9.999K',\n",
    "'4,000-4,999': '$1K to $9.999K',\n",
    "'5,000-7,499': '$1K to $9.999K',\n",
    "'7,500-9,999': '$1K to $9.999K',\n",
    "'10,000-14,999': '$10K to $49.999K',\n",
    "'15,000-19,999': '$10K to $49.999K',\n",
    "'20,000-24,999': '$10K to $49.999K',\n",
    "'25,000-29,999': '$10K to $49.999K',\n",
    "'30,000-39,999': '$10K to $49.999K',\n",
    "'40,000-49,999': '$10K to $49.999K',\n",
    "'50,000-59,999': '$50K to $79.999K',\n",
    "'60,000-69,999': '$50K to $79.999K',\n",
    "'70,000-79,999': '$50K to $79.999K',\n",
    "'80,000-89,999': '$80K to $99.999K',\n",
    "'90,000-99,999': '$80K to $99.999K',\n",
    "'100,000-124,999': '$100K to $124.999K',\n",
    "'125,000-149,999': '$125K to $149.999K',\n",
    "'150,000-199,999': '$150K to $199.999K',\n",
    "'200,000-249,999': '$200K to $299.999K',\n",
    "'250,000-299,999': '$200K to $299.999K',\n",
    "'300,000-499,999': '$300K to $500K',\n",
    "'300,000-500,000': '$300K to $500K',\n",
    "'$500,000-999,999': '>$500K',\n",
    "'> $500,000': '>$500K',\n",
    "'>$1,000,000': '>$1000K'}\n"
   ]
  },
  {
   "cell_type": "code",
   "execution_count": null,
   "id": "b2953586-bff0-49dd-80f1-573393b93650",
   "metadata": {},
   "outputs": [],
   "source": [
    "datacomb['Job_Salary'].unique()"
   ]
  },
  {
   "cell_type": "code",
   "execution_count": null,
   "id": "2987dadf-06a5-4dea-a843-8854816a788b",
   "metadata": {},
   "outputs": [],
   "source": [
    "datacomb['Job_Salary'] = datacomb['Job_Salary'].apply(replace_text2, replacements=salary_recat_dict)"
   ]
  },
  {
   "cell_type": "code",
   "execution_count": null,
   "id": "0050f94e-4748-4826-8a90-07b960213795",
   "metadata": {},
   "outputs": [],
   "source": [
    "datacomb['Job_Salary'].unique()"
   ]
  },
  {
   "cell_type": "markdown",
   "id": "9147c42f-cef3-45b6-85a4-4eaddd31731d",
   "metadata": {},
   "source": [
    "# Cleaning the 'Gender - Selected Choice' to replace non-man, non-women responses to NaN"
   ]
  },
  {
   "cell_type": "code",
   "execution_count": null,
   "id": "f666071b-275f-429a-a535-4a818e03cc10",
   "metadata": {},
   "outputs": [],
   "source": [
    "Gender_dict = {'Prefer not to say': np.nan,\n",
    "              'Nonbinary': np.nan,\n",
    "              'Prefer to self-describe': np.nan}"
   ]
  },
  {
   "cell_type": "code",
   "execution_count": null,
   "id": "68ea66b4-148b-445d-bd00-4e209c6ca05a",
   "metadata": {},
   "outputs": [],
   "source": [
    "datacomb['Gender'] = datacomb['Gender'].apply(replace_text2, replacements = Gender_dict)"
   ]
  },
  {
   "cell_type": "code",
   "execution_count": null,
   "id": "cef02668-ff04-4ef2-8af0-b8641bf55a97",
   "metadata": {},
   "outputs": [],
   "source": [
    "datacomb.columns"
   ]
  },
  {
   "cell_type": "code",
   "execution_count": null,
   "id": "da4c1140-5f98-4dba-9b56-953271140860",
   "metadata": {},
   "outputs": [],
   "source": [
    "datacomb.shape"
   ]
  },
  {
   "cell_type": "code",
   "execution_count": null,
   "id": "5c3faff2-aa5c-482f-8832-d5466555a783",
   "metadata": {},
   "outputs": [],
   "source": [
    "cat_datacomb_cols = datacomb.select_dtypes(include = ['object']).columns"
   ]
  },
  {
   "cell_type": "code",
   "execution_count": null,
   "id": "591fe1fd-4da2-4a2b-8679-9bd73bf8a4cc",
   "metadata": {},
   "outputs": [],
   "source": [
    "len(cat_datacomb_cols)"
   ]
  },
  {
   "cell_type": "code",
   "execution_count": null,
   "id": "7c8e518e-da1e-4565-b604-4e42a8e6f9d1",
   "metadata": {},
   "outputs": [],
   "source": [
    "datacomb_new = datacomb.drop('Time spent on survey', axis = 1)\n",
    "datacomb_new.head()"
   ]
  },
  {
   "cell_type": "code",
   "execution_count": null,
   "id": "84357bc4-ae90-4101-a208-deac51746d07",
   "metadata": {},
   "outputs": [],
   "source": [
    "col_w_other = [col for col in datacomb.columns if 'Other' in col]\n",
    "col_w_other"
   ]
  },
  {
   "cell_type": "code",
   "execution_count": null,
   "id": "0ec13acd-9788-4748-bf64-362fb1f241a6",
   "metadata": {},
   "outputs": [],
   "source": [
    "col_w_none = [col for col in datacomb.columns if 'None' in col]\n",
    "col_w_none"
   ]
  },
  {
   "cell_type": "code",
   "execution_count": null,
   "id": "5974232d-b586-4443-ae3b-02df0bf53258",
   "metadata": {},
   "outputs": [],
   "source": [
    "cols_to_remove = col_w_other + col_w_none"
   ]
  },
  {
   "cell_type": "code",
   "execution_count": null,
   "id": "dcdf9441-a6c6-4004-9e2c-a8cf4943097e",
   "metadata": {},
   "outputs": [],
   "source": [
    "datacomb_new = datacomb_new.drop(columns = cols_to_remove, axis = 1)"
   ]
  },
  {
   "cell_type": "code",
   "execution_count": null,
   "id": "a7fdd486-f0f5-4c58-b01e-21a739332e02",
   "metadata": {},
   "outputs": [],
   "source": [
    "len(datacomb_new.columns)"
   ]
  },
  {
   "cell_type": "code",
   "execution_count": null,
   "id": "5a3b0910-b6d0-4a0e-b694-459f020996ab",
   "metadata": {},
   "outputs": [],
   "source": [
    "datacomb_new.shape"
   ]
  },
  {
   "cell_type": "code",
   "execution_count": null,
   "id": "b17845e2-5240-49ca-8099-b07cb6cec623",
   "metadata": {},
   "outputs": [],
   "source": [
    "datacomb_new.columns.difference(datacomb_new.select_dtypes(include = ['object']).columns) # the only column that is not categorical is year"
   ]
  },
  {
   "cell_type": "markdown",
   "id": "e763cddb-fb3a-44ff-9c7f-1031222372b2",
   "metadata": {},
   "source": [
    "# Cleaning the 'Location' column"
   ]
  },
  {
   "cell_type": "code",
   "execution_count": null,
   "id": "69570ca2-41fb-4969-a86c-19977afdaa10",
   "metadata": {},
   "outputs": [],
   "source": [
    "datacomb_new['Location'].unique()"
   ]
  },
  {
   "cell_type": "code",
   "execution_count": null,
   "id": "194feff3-1ab7-4937-a370-1750aeef5018",
   "metadata": {},
   "outputs": [],
   "source": [
    "Location_dict = {'I do not wish to disclose my location': np.nan,\n",
    "              'Other': np.nan}"
   ]
  },
  {
   "cell_type": "code",
   "execution_count": null,
   "id": "db3c00cc-35eb-4c6f-9e19-5e67050b51ca",
   "metadata": {},
   "outputs": [],
   "source": [
    "datacomb_new['Location'] = datacomb_new['Location'].apply(replace_text, replacements=Location_dict)"
   ]
  },
  {
   "cell_type": "code",
   "execution_count": null,
   "id": "b71a54f2-a193-419a-b037-547386921e1c",
   "metadata": {},
   "outputs": [],
   "source": [
    "datacomb_new['Location'].unique()"
   ]
  },
  {
   "cell_type": "code",
   "execution_count": null,
   "id": "44b1994f-95cd-4690-a6b9-1db5fd6eab92",
   "metadata": {},
   "outputs": [],
   "source": [
    "datacomb_new['Location'].nunique()"
   ]
  },
  {
   "cell_type": "markdown",
   "id": "c86380dd-0e9d-475b-bab6-4313074778b5",
   "metadata": {
    "tags": []
   },
   "source": [
    "# Writing datacomb to excel"
   ]
  },
  {
   "cell_type": "code",
   "execution_count": null,
   "id": "5aa0540a-888c-4db5-a371-e20a2d1370be",
   "metadata": {
    "colab": {
     "background_save": true
    },
    "id": "5aa0540a-888c-4db5-a371-e20a2d1370be"
   },
   "outputs": [],
   "source": [
    "# # writing the datacomb dataframe to excel\n",
    "# datacomb.to_csv('data_allthreeyears_combined.csv', index=False)"
   ]
  },
  {
   "cell_type": "code",
   "execution_count": null,
   "id": "a715619b-1615-4cad-9854-accb9c17e53a",
   "metadata": {
    "colab": {
     "background_save": true
    },
    "id": "5aa0540a-888c-4db5-a371-e20a2d1370be"
   },
   "outputs": [],
   "source": [
    "# # writing the datacomb dataframe to excel\n",
    "datacomb_new.to_csv('data_allthreeyears_combined_new1.csv', index=False)"
   ]
  },
  {
   "cell_type": "markdown",
   "id": "f7d53479",
   "metadata": {
    "colab": {
     "background_save": true
    },
    "id": "95762827-e41d-433a-8ea6-e1069250f219"
   },
   "source": [
    "# Some ordinal data need to be encoded to improve visualization (sorted axis values)."
   ]
  },
  {
   "cell_type": "code",
   "execution_count": null,
   "id": "5b2ecbc6-0aee-4a19-8644-0f51cea33c67",
   "metadata": {
    "colab": {
     "background_save": true
    },
    "id": "5b2ecbc6-0aee-4a19-8644-0f51cea33c67"
   },
   "outputs": [],
   "source": [
    "included_columns = ['Age', 'Education level_attainedOrGGtoAttain', 'Coding Experience (in years)', 'Years in ML', \n",
    "                    'Job_Salary', 'Money Spent on ML/Cloud Computing', 'Times used TPU']\n",
    "cols = [col for col in datacomb.columns if col in included_columns]\n",
    "\n",
    "all = pd.DataFrame()\n",
    "for col in cols:\n",
    "    col_df = pd.DataFrame()\n",
    "    col_df[col] = datacomb[col].unique()\n",
    "    col_df[col+'_encoded'] = np.zeros(len(col_df[col]))\n",
    "    all = pd.concat([all, col_df], axis=1)\n",
    "\n",
    "all.to_csv('all_ans.csv')\n",
    "\n",
    "# What happens after this is that we label the ordinal data based its intrinsic order\n",
    "# For example, the ordinal data for education level is as follows:\n",
    "# 1. No formal education past high school\n",
    "# 2. Some college/university study without earning a bachelor’s degree\n",
    "# 3. Bachelor’s degree\n",
    "# 4. Master’s degree\n",
    "# 5. Doctoral degree\n",
    "# 6. Professional degree\n",
    "# 7. I prefer not to answer\n",
    "# the completed file will be used in the streamlit app"
   ]
  }
 ],
 "metadata": {
  "colab": {
   "provenance": []
  },
  "kernelspec": {
   "display_name": "Python 3 (ipykernel)",
   "language": "python",
   "name": "python3"
  },
  "language_info": {
   "codemirror_mode": {
    "name": "ipython",
    "version": 3
   },
   "file_extension": ".py",
   "mimetype": "text/x-python",
   "name": "python",
   "nbconvert_exporter": "python",
   "pygments_lexer": "ipython3",
   "version": "3.11.6"
  },
  "toc-autonumbering": true
 },
 "nbformat": 4,
 "nbformat_minor": 5
}
