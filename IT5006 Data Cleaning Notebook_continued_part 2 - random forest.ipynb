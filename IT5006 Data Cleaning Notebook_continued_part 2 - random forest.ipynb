{
 "cells": [
  {
   "cell_type": "code",
   "execution_count": null,
   "id": "6efb15e4-4470-4e05-a2a8-5bacbe4a3ba0",
   "metadata": {},
   "outputs": [],
   "source": [
    "import pandas as pd\n",
    "import numpy as np\n",
    "import matplotlib.pyplot as plt\n",
    "import seaborn as sns\n",
    "\n",
    "%matplotlib inline\n",
    "\n",
    "# display all columns\n",
    "pd.set_option('display.max_columns', None)\n",
    "# display all rows\n",
    "pd.set_option('display.max_rows', None)"
   ]
  },
  {
   "cell_type": "code",
   "execution_count": null,
   "id": "f59f5b95-0fdf-4009-b7db-2991833155d2",
   "metadata": {},
   "outputs": [],
   "source": [
    "datacomb_new = pd.read_csv('data_allthreeyears_combined_new1.csv')"
   ]
  },
  {
   "cell_type": "code",
   "execution_count": null,
   "id": "317e671b-c81f-4263-ad2c-ef8dff5f2e85",
   "metadata": {},
   "outputs": [],
   "source": [
    "datacomb_new = datacomb_new.replace({'Gender - Selected Choice': 'Gender'})"
   ]
  },
  {
   "cell_type": "code",
   "execution_count": null,
   "id": "5c2a346c-aa21-4907-95e9-17fd1879ff4a",
   "metadata": {},
   "outputs": [],
   "source": [
    "datacomb_new['Location'].unique()"
   ]
  },
  {
   "cell_type": "code",
   "execution_count": null,
   "id": "b8745a60-6bc1-4d1c-a013-6140256aa494",
   "metadata": {},
   "outputs": [],
   "source": [
    "datacomb_new['Location'].nunique()"
   ]
  },
  {
   "cell_type": "code",
   "execution_count": null,
   "id": "ff88fc00-7427-4090-b118-0f2631a51cc3",
   "metadata": {},
   "outputs": [],
   "source": [
    "list(datacomb_new.columns)"
   ]
  },
  {
   "cell_type": "code",
   "execution_count": null,
   "id": "a836b53c-ee37-4ded-8169-7b1fcd4ad717",
   "metadata": {},
   "outputs": [],
   "source": [
    "datacomb_new['year'].dtype"
   ]
  },
  {
   "cell_type": "code",
   "execution_count": null,
   "id": "9e760c71-abaa-4283-82b1-b32d205cc1c6",
   "metadata": {},
   "outputs": [],
   "source": [
    "datacomb_new.shape"
   ]
  },
  {
   "cell_type": "code",
   "execution_count": null,
   "id": "9716c674-f614-4288-83aa-15bead936ead",
   "metadata": {},
   "outputs": [],
   "source": [
    "categorical_columns = datacomb_new.select_dtypes(include=['object']).columns.tolist()\n",
    "categorical_columns"
   ]
  },
  {
   "cell_type": "markdown",
   "id": "c2ba81f0-d6db-4055-86bd-6dd0da1db1bb",
   "metadata": {},
   "source": [
    "# drop the 'year' column"
   ]
  },
  {
   "cell_type": "code",
   "execution_count": null,
   "id": "c8a4ccca-d485-4f73-a19a-5f55a1eac539",
   "metadata": {},
   "outputs": [],
   "source": [
    "# drop the 'year' column\n",
    "\n",
    "datacomb_new = datacomb_new.drop('year', axis = 1)"
   ]
  },
  {
   "cell_type": "code",
   "execution_count": null,
   "id": "5dce65f7-dfee-40a1-a70e-fe4130cfc9e3",
   "metadata": {},
   "outputs": [],
   "source": [
    "datacomb_new.shape"
   ]
  },
  {
   "cell_type": "code",
   "execution_count": null,
   "id": "5fd4eb8d-9d20-4430-aeeb-d108c11cfc35",
   "metadata": {},
   "outputs": [],
   "source": [
    "unique_counts = datacomb_new.nunique(dropna=False)"
   ]
  },
  {
   "cell_type": "code",
   "execution_count": null,
   "id": "70966535-1923-499d-9dc6-62dca44c3f9e",
   "metadata": {},
   "outputs": [],
   "source": [
    "# unique_counts"
   ]
  },
  {
   "cell_type": "code",
   "execution_count": null,
   "id": "c4e33b3d-7cd1-4a80-bc09-4bb04e70b8f4",
   "metadata": {},
   "outputs": [],
   "source": [
    "binary_cols = unique_counts[unique_counts <= 2].index.tolist()"
   ]
  },
  {
   "cell_type": "code",
   "execution_count": null,
   "id": "f18af7ae-5c64-4a1d-a7f5-db556bd204df",
   "metadata": {},
   "outputs": [],
   "source": [
    "non_binary_cols = unique_counts[unique_counts > 2].index.tolist()\n",
    "non_binary_cols"
   ]
  },
  {
   "cell_type": "code",
   "execution_count": null,
   "id": "1a3a4d7a-8860-48d2-8d8b-e97b52f1e2ab",
   "metadata": {},
   "outputs": [],
   "source": [
    "# number of binary cols in the dataset\n",
    "len(binary_cols)"
   ]
  },
  {
   "cell_type": "code",
   "execution_count": null,
   "id": "b17212a4-820d-4dd3-a83f-bd55a5a3e4d4",
   "metadata": {},
   "outputs": [],
   "source": [
    "datacomb_new.shape"
   ]
  },
  {
   "cell_type": "code",
   "execution_count": null,
   "id": "6673517c-2993-4dc1-868e-9115a24bdafc",
   "metadata": {},
   "outputs": [],
   "source": [
    "datacomb_new.sample(2)"
   ]
  },
  {
   "cell_type": "code",
   "execution_count": null,
   "id": "b13d289e-2106-48b8-82f4-004f68c2c17c",
   "metadata": {},
   "outputs": [],
   "source": [
    "# binary_cols"
   ]
  },
  {
   "cell_type": "code",
   "execution_count": null,
   "id": "96751278-f271-4fc3-a833-a1c18ddd7cb1",
   "metadata": {},
   "outputs": [],
   "source": [
    "# # sanity check only\n",
    "# for i in binary_cols:\n",
    "#     print(i)\n",
    "#     print(datacomb_new[i].unique())\n",
    "#     print('=====================')\n",
    "    "
   ]
  },
  {
   "cell_type": "code",
   "execution_count": null,
   "id": "2899b6aa-0fa6-424d-af57-6de55e7de877",
   "metadata": {},
   "outputs": [],
   "source": [
    "# # sanity check only\n",
    "# for i in non_binary_cols:\n",
    "#     print(i)\n",
    "#     print(datacomb_new[i].unique())\n",
    "#     print('=====================')\n",
    "    "
   ]
  },
  {
   "cell_type": "code",
   "execution_count": null,
   "id": "678be5ae-6313-4c90-96d6-97d9c5cca55c",
   "metadata": {},
   "outputs": [],
   "source": [
    "non_binary_cols"
   ]
  },
  {
   "cell_type": "code",
   "execution_count": null,
   "id": "9cee5704-94b1-42de-ba4e-370c4179012b",
   "metadata": {},
   "outputs": [],
   "source": [
    "# check if the columns in non_binary_cols have NaN values\n",
    "# columns with no NaN values may have the multi-colinearity problem when we one-hot-encode it with pd.get_dummies\n",
    "for i in non_binary_cols:\n",
    "    print(i, \"---------\", datacomb_new[i].isna().any().any())"
   ]
  },
  {
   "cell_type": "code",
   "execution_count": null,
   "id": "61557616-9901-4634-a17d-9a8b1b370bed",
   "metadata": {},
   "outputs": [],
   "source": [
    "datacomb_new[non_binary_cols].count()"
   ]
  },
  {
   "cell_type": "markdown",
   "id": "af13a3bd-05b8-47c9-81c0-aa226e0407dc",
   "metadata": {},
   "source": [
    "# Label Binary Columns to 0 and 1"
   ]
  },
  {
   "cell_type": "code",
   "execution_count": null,
   "id": "16476b8b-b2f4-4671-b649-20095802ba6e",
   "metadata": {},
   "outputs": [],
   "source": [
    "datacomb_new[binary_cols] = np.where((datacomb_new[binary_cols] != 0) & (~datacomb_new[binary_cols].isna()), 1, 0)"
   ]
  },
  {
   "cell_type": "code",
   "execution_count": null,
   "id": "08dbc45a-1c34-487b-9d8b-1e99dd2b913c",
   "metadata": {
    "scrolled": true
   },
   "outputs": [],
   "source": [
    "datacomb_new.shape"
   ]
  },
  {
   "cell_type": "code",
   "execution_count": null,
   "id": "8718c27c-4edd-4c4b-a030-29fcea38f6b4",
   "metadata": {},
   "outputs": [],
   "source": [
    "datacomb_new.head()"
   ]
  },
  {
   "cell_type": "code",
   "execution_count": null,
   "id": "a93acf57-93d5-45d8-b3ac-da80753664d7",
   "metadata": {
    "tags": []
   },
   "outputs": [],
   "source": [
    "datacomb_new['Job_title - Selected Choice'].isna().sum() # number of rows with the Job_title blank"
   ]
  },
  {
   "cell_type": "code",
   "execution_count": null,
   "id": "958feccf-b0b7-4e20-82ea-e53c5ca30d30",
   "metadata": {},
   "outputs": [],
   "source": [
    "# drop rows with empty job title\n",
    "datacomb_new = datacomb_new.dropna(subset = ['Job_title - Selected Choice'])"
   ]
  },
  {
   "cell_type": "code",
   "execution_count": null,
   "id": "e024def9-4858-48c7-b1b5-2fcddbe01836",
   "metadata": {
    "tags": []
   },
   "outputs": [],
   "source": [
    "datacomb_new['Job_title - Selected Choice'].isna().sum() # number of rows with the Job_title blank is now 0"
   ]
  },
  {
   "cell_type": "code",
   "execution_count": null,
   "id": "bb07cf19-2e68-462b-955f-cc13af76de1b",
   "metadata": {},
   "outputs": [],
   "source": [
    "datacomb_new.shape"
   ]
  },
  {
   "cell_type": "code",
   "execution_count": null,
   "id": "a3381fc2-8000-4bc3-9d08-d93b6d5ea89b",
   "metadata": {},
   "outputs": [],
   "source": [
    "# drop rows with student as job title\n",
    "datacomb_new = datacomb_new[datacomb_new['Job_title - Selected Choice'] != 'Student']\n",
    "datacomb_new.shape"
   ]
  },
  {
   "cell_type": "code",
   "execution_count": null,
   "id": "59644874-9f2c-4b19-a376-d59e284507c8",
   "metadata": {},
   "outputs": [],
   "source": [
    "print(len(binary_cols))\n",
    "print(len(non_binary_cols))"
   ]
  },
  {
   "cell_type": "markdown",
   "id": "fa4fe799-8e2d-44ee-b863-507143f476e0",
   "metadata": {},
   "source": [
    "# Dropping cols we think is not associated to the job title"
   ]
  },
  {
   "cell_type": "code",
   "execution_count": null,
   "id": "c7fcb5f4-a3f7-4f1c-8a29-eecca57b68f9",
   "metadata": {},
   "outputs": [],
   "source": [
    "datacomb_new.shape"
   ]
  },
  {
   "cell_type": "code",
   "execution_count": null,
   "id": "480d3bfa-3e5a-443b-84ca-6d4872944e63",
   "metadata": {},
   "outputs": [],
   "source": [
    "job_title_dict = {\n",
    "    'Data Analyst (Business, Marketing, Financial, Quantitative, etc)': 'Data Analyst',\n",
    "    'Product Manager': 'Product/Project/Program Manager',\n",
    "    'Product/Project Manager': 'Product/Project/Program Manager',\n",
    "    'Program/Project Manager':'Product/Project/Program Manager',\n",
    "    'Machine Learning Engineer':'Machine Learning/ MLops Engineer'}\n",
    "\n",
    "def replace_text(cell_value, replacements):\n",
    "    if cell_value is not None and not pd.isna(cell_value):\n",
    "        # Check if the cell_value is a float, and if so, convert it to a string.\n",
    "        if isinstance(cell_value, float):\n",
    "            cell_value = str(cell_value)\n",
    "        cell_value = replacements.get(cell_value,cell_value)\n",
    "    return cell_value\n",
    "\n",
    "datacomb_new['Job_title - Selected Choice'] = datacomb_new['Job_title - Selected Choice'].apply(replace_text, replacements=job_title_dict)\n",
    "datacomb_new['Job_title - Selected Choice'].unique()"
   ]
  },
  {
   "cell_type": "code",
   "execution_count": null,
   "id": "b9ac3b07-501b-429f-b79f-7e269c7dc0b7",
   "metadata": {},
   "outputs": [],
   "source": [
    "Job_title = datacomb_new.pop('Job_title - Selected Choice')\n",
    "datacomb_new.insert(len(datacomb_new.columns), 'Job_title - Selected Choice', Job_title)"
   ]
  },
  {
   "cell_type": "code",
   "execution_count": null,
   "id": "f8ca4351-3ebd-4502-9b10-b42abba1157d",
   "metadata": {},
   "outputs": [],
   "source": [
    "cols_to_drop = ['Job_No.OfDSTeamMember', 'Job_EmployerUsingML?','Money Spent on ML/Cloud Computing','Times used TPU','Job_title - Selected Choice']\n",
    "datacomb_new_wo_Jtitle = datacomb_new.drop(cols_to_drop, axis = 1)\n"
   ]
  },
  {
   "cell_type": "code",
   "execution_count": null,
   "id": "d148a954-d010-42e3-80be-b496d50fd1ad",
   "metadata": {},
   "outputs": [],
   "source": [
    "filtered_non_binary_cols = [item for item in non_binary_cols if item not in cols_to_drop]"
   ]
  },
  {
   "cell_type": "code",
   "execution_count": null,
   "id": "decda25f-cab1-4ea3-a185-b3a50368330d",
   "metadata": {},
   "outputs": [],
   "source": [
    "filtered_non_binary_cols"
   ]
  },
  {
   "cell_type": "code",
   "execution_count": null,
   "id": "1f44d7d1-936e-4226-92d9-bbd65fc8e872",
   "metadata": {},
   "outputs": [],
   "source": [
    "encoded_df = pd.get_dummies(datacomb_new_wo_Jtitle, columns = filtered_non_binary_cols, prefix_sep=' - ')"
   ]
  },
  {
   "cell_type": "code",
   "execution_count": null,
   "id": "4464c108-1503-4571-bd87-b08925cdc56a",
   "metadata": {},
   "outputs": [],
   "source": [
    "encoded_df.shape"
   ]
  },
  {
   "cell_type": "code",
   "execution_count": null,
   "id": "e04c0517-453a-48f5-ae0c-b7d6298ec51a",
   "metadata": {},
   "outputs": [],
   "source": [
    "encoded_df[encoded_df['Popular IDEs - Click to write Choice 13'] ==1].count()"
   ]
  },
  {
   "cell_type": "code",
   "execution_count": null,
   "id": "63abf355-d443-4283-83ac-5a1c54cd5db8",
   "metadata": {},
   "outputs": [],
   "source": [
    "encoded_df.drop('Age - 70+', axis = 1, inplace = True) # to remove multi-colinearity"
   ]
  },
  {
   "cell_type": "code",
   "execution_count": null,
   "id": "c88aeb9c-912b-4f7c-93f0-8a93947eee5c",
   "metadata": {},
   "outputs": [],
   "source": [
    "encoded_df.shape # verifying that there is one less column"
   ]
  },
  {
   "cell_type": "code",
   "execution_count": null,
   "id": "cce8c5af-d6c3-40cc-94e7-15923ea7cc29",
   "metadata": {},
   "outputs": [],
   "source": [
    "encoded_df.head()"
   ]
  },
  {
   "cell_type": "code",
   "execution_count": null,
   "id": "1773da7e-38b9-4143-88f2-5a4edcc03617",
   "metadata": {},
   "outputs": [],
   "source": [
    "a = list(encoded_df.columns)\n",
    "a.sort()\n",
    "a"
   ]
  },
  {
   "cell_type": "markdown",
   "id": "584cb186-d4fa-4ecc-a896-4d4506d91bd4",
   "metadata": {},
   "source": [
    "## Random Forest"
   ]
  },
  {
   "cell_type": "code",
   "execution_count": null,
   "id": "437c9e43-bdd5-4aa4-b092-d83ac6f0109f",
   "metadata": {},
   "outputs": [],
   "source": [
    "from sklearn.model_selection import train_test_split\n",
    "\n",
    "rng = np.random.RandomState(seed=42)\n",
    "X_train, X_test, y_train, y_test = train_test_split( encoded_df, Job_title , test_size=0.20, random_state= rng)\n",
    "\n",
    "print( X_train.shape )\n",
    "print( X_test.shape )"
   ]
  },
  {
   "cell_type": "code",
   "execution_count": null,
   "id": "305624bb-ad5c-49a5-91e5-77fc75e31086",
   "metadata": {},
   "outputs": [],
   "source": [
    "from sklearn.ensemble import RandomForestClassifier\n",
    "\n",
    "rnd_clf = RandomForestClassifier( n_estimators=100, max_leaf_nodes=15, n_jobs=-1 )\n",
    "\n",
    "rnd_clf.fit( X_train, y_train )\n",
    "\n",
    "y_pred_rf = rnd_clf.predict( X_test )"
   ]
  },
  {
   "cell_type": "code",
   "execution_count": null,
   "id": "70177a3c-b010-45b7-a58d-221875713840",
   "metadata": {},
   "outputs": [],
   "source": [
    "from sklearn.metrics import precision_score\n",
    "from sklearn.metrics import recall_score\n",
    "from sklearn.metrics import classification_report\n",
    "from pprint import pprint\n",
    "\n",
    "def evaluate(test, pred):\n",
    "    print(classification_report( test, pred ))\n",
    "    # Calculate precision\n",
    "    precision = precision_score(test, pred, average='micro')\n",
    "    \n",
    "    # Calculate recall\n",
    "    recall = recall_score(test, pred, average='micro')\n",
    "    \n",
    "    print(\"Precision: \", precision)\n",
    "    print(\"Recall: \", recall)\n"
   ]
  },
  {
   "cell_type": "code",
   "execution_count": null,
   "id": "bd07cd16-2552-4d85-bf88-0432999c45f2",
   "metadata": {},
   "outputs": [],
   "source": [
    "evaluate( y_test, y_pred_rf )"
   ]
  },
  {
   "cell_type": "code",
   "execution_count": null,
   "id": "6c879811-60d2-4c07-b143-6ef30c741c9f",
   "metadata": {},
   "outputs": [],
   "source": [
    "def RandomForest_HyperParameter_Evaluator(param, X_train, y_train, X_test, y_test):\n",
    "    rf = RandomForestClassifier(**param)\n",
    "    rf.fit(X_train, y_train)\n",
    "    y_pred = rf.predict(X_test)\n",
    "    evaluate(y_test, y_pred)\n",
    "    return rf"
   ]
  },
  {
   "cell_type": "code",
   "execution_count": null,
   "id": "3147aa87-ced4-48c6-8ca1-0328074047ee",
   "metadata": {},
   "outputs": [],
   "source": [
    "# finding best parameters (1)\n",
    "\n",
    "# from sklearn.model_selection import GridSearchCV\n",
    "\n",
    "# params_to_test = {\n",
    "#     'n_estimators':[10,25,50],#,100,200,500\n",
    "#     'max_depth':[3,5,10] #15,20,25\n",
    "# }\n",
    "\n",
    "# #here you can put any parameter you want at every run, like random_state or verbosity\n",
    "# rf_model = RandomForestClassifier(random_state=rng)\n",
    "# #here you specify the CV parameters, number of folds, numberof cores to use...\n",
    "# grid_search = GridSearchCV(rf_model, param_grid=params_to_test, cv=10, scoring='f1_macro', n_jobs=4)\n",
    "\n",
    "# grid_search.fit(X_train, y_train)\n",
    "\n",
    "# best_params = grid_search.best_params_ \n",
    "\n",
    "# #best_params is a dict you can pass directly to train a model with optimal settings \n",
    "# best_model = RandomForestClassifier(**best_params)"
   ]
  },
  {
   "cell_type": "code",
   "execution_count": null,
   "id": "4096987a-cec0-4b54-8be8-41aa17e5c677",
   "metadata": {},
   "outputs": [],
   "source": [
    "# best_params\n",
    "# {'max_depth': 10, 'n_estimators': 50}"
   ]
  },
  {
   "cell_type": "code",
   "execution_count": null,
   "id": "f25a4ac7-1b28-4146-b628-0866afd6d7d9",
   "metadata": {},
   "outputs": [],
   "source": [
    "# best_model"
   ]
  },
  {
   "cell_type": "code",
   "execution_count": null,
   "id": "bcf8409d-abf0-4b04-9225-bc8f5fd8817a",
   "metadata": {},
   "outputs": [],
   "source": [
    "# best_model.fit( X_train, y_train )\n",
    "# best_model"
   ]
  },
  {
   "cell_type": "code",
   "execution_count": null,
   "id": "fcd6dcc5-9b33-4c26-9908-f01107e98025",
   "metadata": {},
   "outputs": [],
   "source": [
    "# y_pred_rf = best_model.predict( X_test )"
   ]
  },
  {
   "cell_type": "code",
   "execution_count": null,
   "id": "d36e0708-0940-4684-9837-1b37e595bb5f",
   "metadata": {},
   "outputs": [],
   "source": [
    "\n",
    "evaluate( y_test, y_pred_rf )"
   ]
  },
  {
   "cell_type": "code",
   "execution_count": null,
   "id": "1d30a15e-cd34-4536-82ee-1f44cb06f6f1",
   "metadata": {},
   "outputs": [],
   "source": [
    "# Finding best parameters (2)\n",
    "# from sklearn.model_selection import RandomizedSearchCV\n",
    "# from pprint import pprint\n",
    "# # Number of trees in random forest\n",
    "# n_estimators = [int(x) for x in np.linspace(start = 200, stop = 2000, num = 10)]\n",
    "# # Number of features to consider at every split\n",
    "# max_features = ['auto', 'sqrt']\n",
    "# # Maximum number of levels in tree\n",
    "# max_depth = [int(x) for x in np.linspace(10, 110, num = 11)]\n",
    "# max_depth.append(None)\n",
    "# # Minimum number of samples required to split a node\n",
    "# min_samples_split = [2, 5, 10]\n",
    "# # Minimum number of samples required at each leaf node\n",
    "# min_samples_leaf = [1, 2, 4]\n",
    "# # Method of selecting samples for training each tree\n",
    "# bootstrap = [True, False]\n",
    "# # Create the random grid\n",
    "# random_grid = {'n_estimators': n_estimators,\n",
    "#                'max_features': max_features,\n",
    "#                'max_depth': max_depth,\n",
    "#                'min_samples_split': min_samples_split,\n",
    "#                'min_samples_leaf': min_samples_leaf,\n",
    "#                'bootstrap': bootstrap}\n",
    "# pprint(random_grid)"
   ]
  },
  {
   "cell_type": "code",
   "execution_count": null,
   "id": "3e3376bc-69a2-4a47-b27b-12ec23efb3d3",
   "metadata": {},
   "outputs": [],
   "source": [
    "# # !!! resource intensive !!!\n",
    "# # Use the random grid to search for best hyperparameters\n",
    "# # First create the base model to tune\n",
    "# rf = RandomForestClassifier()\n",
    "# # Random search of parameters, using 3 fold cross validation, \n",
    "# # search across 100 different combinations, and use all available cores\n",
    "# rf_random = RandomizedSearchCV(estimator = rf, param_distributions = random_grid, n_iter = 100, cv = 3, verbose=2, random_state=42, n_jobs = -1)\n",
    "# # Fit the random search model\n",
    "# rf_random.fit(X_train, y_train)\n"
   ]
  },
  {
   "cell_type": "code",
   "execution_count": null,
   "id": "bd05ba1b-4eca-436b-abe5-aad4e8552052",
   "metadata": {},
   "outputs": [],
   "source": [
    "# rf_random.best_params_\n",
    "# {'n_estimators': 1600,\n",
    "#  'min_samples_split': 5,\n",
    "#  'min_samples_leaf': 1,\n",
    "#  'max_features': 'sqrt',\n",
    "#  'max_depth': 70,\n",
    "#  'bootstrap': False}"
   ]
  },
  {
   "cell_type": "code",
   "execution_count": null,
   "id": "255cdfbc-ab1d-4efa-99c0-073b19175633",
   "metadata": {},
   "outputs": [],
   "source": [
    "# rf_random.best_score_ \n"
   ]
  },
  {
   "cell_type": "code",
   "execution_count": null,
   "id": "a92a95b5-3648-49c1-96bb-69b8a36ec8f5",
   "metadata": {},
   "outputs": [],
   "source": [
    "# best_model_2 = RandomForestClassifier(**rf_random.best_params_)\n",
    "# best_model_2"
   ]
  },
  {
   "cell_type": "code",
   "execution_count": null,
   "id": "91cdece5-4e98-45e0-b94a-66c3f11933ac",
   "metadata": {},
   "outputs": [],
   "source": [
    "# best_model_2.fit(X_train, y_train)"
   ]
  },
  {
   "cell_type": "code",
   "execution_count": null,
   "id": "462ac0b6-8e91-4f6b-9ea4-549d94029cea",
   "metadata": {},
   "outputs": [],
   "source": [
    "# y_pred_best_2 = best_model_2.predict(X_test)"
   ]
  },
  {
   "cell_type": "code",
   "execution_count": null,
   "id": "1bf78170-5379-48dc-aca4-46c48563b08b",
   "metadata": {},
   "outputs": [],
   "source": [
    "# evaluate( y_test, y_pred_best_2 )\n",
    "\n",
    "# remove\n",
    "# 'Currently not employed'\n",
    "\n",
    "# merge"
   ]
  },
  {
   "cell_type": "code",
   "execution_count": null,
   "id": "5f4bb81b-5ec7-4515-b767-85355059cc60",
   "metadata": {},
   "outputs": [],
   "source": [
    "# from sklearn.model_selection import GridSearchCV\n",
    "# # Create the parameter grid based on the results of random search \n",
    "# param_grid = {\n",
    "#     'bootstrap': [True],\n",
    "#     'max_depth': [80, 90, 100, 110],\n",
    "#     'max_features': [2, 3],\n",
    "#     'min_samples_leaf': [3, 4, 5],\n",
    "#     'min_samples_split': [8, 10, 12],\n",
    "#     'n_estimators': [100, 200, 300, 1000]\n",
    "# }\n",
    "# # Create a based model\n",
    "# rf = RandomForestClassifier()\n",
    "# # Instantiate the grid search model\n",
    "# grid_search = GridSearchCV(estimator = rf, param_grid = param_grid, \n",
    "#                           cv = 3, n_jobs = -1, verbose = 2)"
   ]
  },
  {
   "cell_type": "code",
   "execution_count": null,
   "id": "afa8be13-5558-4688-92b6-f0251131fd21",
   "metadata": {},
   "outputs": [],
   "source": [
    "def print_all_columns(df):\n",
    "    a = list(df.columns)\n",
    "    a.sort()\n",
    "    return a"
   ]
  },
  {
   "cell_type": "markdown",
   "id": "75334af7-cb61-4245-a0a4-6cb5e5465d7b",
   "metadata": {},
   "source": [
    "## Exploration 1\n",
    "1. Remove country"
   ]
  },
  {
   "cell_type": "code",
   "execution_count": null,
   "id": "58a11a66-077f-486d-8f59-d6aa810c6276",
   "metadata": {},
   "outputs": [],
   "source": [
    "exploration_df_1 = datacomb_new_wo_Jtitle.copy()\n",
    "exploration_df_1 = exploration_df_1[exploration_df_1.columns.drop(list(exploration_df_1.filter(regex='Location')))]\n",
    "\n",
    "print_all_columns(exploration_df_1)\n",
    "exploration_df_1.shape"
   ]
  },
  {
   "cell_type": "code",
   "execution_count": null,
   "id": "f9689f22-ee8c-46b8-a74d-8291821293ca",
   "metadata": {},
   "outputs": [],
   "source": []
  },
  {
   "cell_type": "code",
   "execution_count": null,
   "id": "713cfc6f-22ed-4f94-a231-0562f6a4297e",
   "metadata": {},
   "outputs": [],
   "source": [
    "filtered_non_binary_cols_dum = filtered_non_binary_cols.copy()\n",
    "exploration_1_encoded_df = pd.get_dummies(exploration_df_1, columns = filtered_non_binary_cols_dum.remove('Location'), prefix_sep=' - ')\n",
    "exploration_1_encoded_df.shape"
   ]
  },
  {
   "cell_type": "code",
   "execution_count": null,
   "id": "38b9a69a-5247-4b0b-b608-e5b3eb1d5f77",
   "metadata": {},
   "outputs": [],
   "source": [
    "exploration_1_encoded_df.drop('Age - 70+', axis = 1, inplace = True) # to remove multi-colinearity"
   ]
  },
  {
   "cell_type": "code",
   "execution_count": null,
   "id": "7b22bcb0-ed9c-46b2-8e37-8c5a670bd872",
   "metadata": {},
   "outputs": [],
   "source": [
    "print_all_columns(exploration_1_encoded_df)"
   ]
  },
  {
   "cell_type": "code",
   "execution_count": null,
   "id": "ec79b466-d854-4108-af15-5551c6ebc225",
   "metadata": {},
   "outputs": [],
   "source": [
    "# train test split\n",
    "X_train, X_test, y_train, y_test = train_test_split( exploration_1_encoded_df, Job_title , test_size=0.20, random_state= rng)\n",
    "\n",
    "print( X_train.shape )\n",
    "print( X_test.shape )"
   ]
  },
  {
   "cell_type": "code",
   "execution_count": null,
   "id": "00f1e840-5024-4eeb-bcd9-58907cab91d2",
   "metadata": {},
   "outputs": [],
   "source": [
    "\n",
    "# exploration_1_rnd_clf = RandomForestClassifier(**rf_random.best_params_)\n",
    "\n",
    "# exploration_1_rnd_clf.fit( X_train, y_train )\n",
    "\n",
    "# exploration_1_y_pred_rf = exploration_1_rnd_clf.predict( X_test )"
   ]
  },
  {
   "cell_type": "code",
   "execution_count": null,
   "id": "673e0d88-0b08-4d9d-a195-39fa60f1ac2e",
   "metadata": {},
   "outputs": [],
   "source": []
  },
  {
   "cell_type": "code",
   "execution_count": null,
   "id": "6c1b0c49-631c-4d9e-88b9-a2a449a6d65a",
   "metadata": {},
   "outputs": [],
   "source": [
    "# evaluate(y_test, exploration_1_y_pred_rf)"
   ]
  },
  {
   "cell_type": "markdown",
   "id": "818050ee-708c-468e-a1bc-f011e4060b96",
   "metadata": {},
   "source": [
    "## \"Final\""
   ]
  },
  {
   "cell_type": "code",
   "execution_count": null,
   "id": "c5a998ae-4b76-4411-b2d6-6a1a05dba971",
   "metadata": {},
   "outputs": [],
   "source": [
    "hyper_parameters = {'n_estimators': 1600,\n",
    " 'min_samples_split': 5,\n",
    " 'min_samples_leaf': 1,\n",
    " 'max_features': 'sqrt',\n",
    " 'max_depth': 70,\n",
    " 'bootstrap': False}"
   ]
  },
  {
   "cell_type": "code",
   "execution_count": null,
   "id": "4d9370f7-e55a-4948-8d11-7270ef77de7c",
   "metadata": {},
   "outputs": [],
   "source": [
    "jobs_df = pd.DataFrame(y_train)\n",
    "jobs_count = pd.DataFrame(jobs_df.groupby('Job_title - Selected Choice')['Job_title - Selected Choice'].count())\n",
    "jobs_count.index.name = None\n",
    "\n",
    "jobs_df_test = pd.DataFrame(y_test)\n",
    "jobs_count_test = pd.DataFrame(jobs_df_test.groupby('Job_title - Selected Choice')['Job_title - Selected Choice'].count())\n",
    "jobs_count_test.index.name = None\n",
    "\n",
    "jobs_count_all = pd.concat([jobs_count, jobs_count_test], axis=1)\n",
    "jobs_count_all.columns=['train','test']\n",
    "\n",
    "jobs_count_all.sort_values('train')\n",
    "\n",
    "# jobs_df.groupby('Job_title - Selected Choice').count()\n",
    "# y_test['Data Administrator','Developer Advocate','Data Architect','Developer Relations/Advocacy']\n"
   ]
  },
  {
   "cell_type": "code",
   "execution_count": null,
   "id": "f3c8a161-20c1-41e4-9487-b3173a912844",
   "metadata": {},
   "outputs": [],
   "source": [
    "final_rf = RandomForestClassifier(**hyper_parameters)\n",
    "final_rf"
   ]
  },
  {
   "cell_type": "code",
   "execution_count": null,
   "id": "cbac59e4-4c72-487e-ac4c-af20389c1538",
   "metadata": {},
   "outputs": [],
   "source": [
    "print(X_train.shape)\n",
    "print(y_train.shape)\n",
    "print(X_test.shape)\n",
    "print(y_test.shape)\n",
    "final_rf.fit(X_train, y_train)"
   ]
  },
  {
   "cell_type": "code",
   "execution_count": null,
   "id": "2e6c212a-809e-491a-82f4-7aa62c3880ca",
   "metadata": {},
   "outputs": [],
   "source": [
    "final_y_pred = final_rf.predict(X_test)\n",
    "final_y_pred"
   ]
  },
  {
   "cell_type": "code",
   "execution_count": null,
   "id": "bea579d3-3b8a-4a2b-93e5-322a627a2c9c",
   "metadata": {},
   "outputs": [],
   "source": [
    "# this one the last final model\n",
    "evaluate(y_test, final_y_pred)"
   ]
  },
  {
   "cell_type": "code",
   "execution_count": null,
   "id": "170957e6-ce09-42da-a7a3-c5dd52323d1f",
   "metadata": {},
   "outputs": [],
   "source": [
    "final_y_pred_proba = final_rf.predict_proba(X_test)\n",
    "final_y_pred_proba"
   ]
  },
  {
   "cell_type": "code",
   "execution_count": null,
   "id": "06c9dde7-21f9-4757-a0ad-04f86e8f3529",
   "metadata": {},
   "outputs": [],
   "source": [
    "final_y_pred_proba.shape"
   ]
  },
  {
   "cell_type": "code",
   "execution_count": null,
   "id": "462b250b-5bdb-4ebd-843d-958be8104781",
   "metadata": {},
   "outputs": [],
   "source": [
    "len(set(Job_title))"
   ]
  },
  {
   "cell_type": "code",
   "execution_count": null,
   "id": "b2883a1f-a116-4049-8790-e0bbc9339b86",
   "metadata": {},
   "outputs": [],
   "source": [
    "import numpy as np\n",
    "\n",
    "def mark_largest_values(matrix, x=1):\n",
    "    result_matrix = np.zeros_like(matrix)\n",
    "    indices = []\n",
    "    for i in range(matrix.shape[0]):\n",
    "        row = matrix[i, :]\n",
    "        indices_of_largest_values = np.argsort(-row)[:x]\n",
    "        # print(indices_of_largest_values)\n",
    "        # print(row[indices_of_largest_values])\n",
    "        result_matrix[i, indices_of_largest_values] = 1\n",
    "        indices.append(indices_of_largest_values)\n",
    "\n",
    "    return result_matrix, indices\n",
    "\n",
    "def get_x_recommendation(model, x_test, x=1):\n",
    "    pred_proba = model.predict_proba(x_test)\n",
    "    \n",
    "    matrix, indices = mark_largest_values(pred_proba, x)\n",
    "\n",
    "    x_recommendation = [ [model.classes_[i] for i in idx]for idx in indices  ]\n",
    "\n",
    "    return x_recommendation\n",
    "\n",
    "matrix, indices = mark_largest_values(final_y_pred_proba)\n",
    "\n",
    "final_rf.classes_"
   ]
  },
  {
   "cell_type": "code",
   "execution_count": null,
   "id": "46bd8eb2-aab5-4677-94e6-f58618f193c8",
   "metadata": {
    "scrolled": true
   },
   "outputs": [],
   "source": [
    "recommended_titles_3 = [ [final_rf.classes_[i] for i in idx]for idx in indices  ] # sorted by best probability\n",
    "# recommended_titles_3"
   ]
  },
  {
   "cell_type": "code",
   "execution_count": null,
   "id": "f11c0ea6-1f82-40ac-9944-5de07b2b287e",
   "metadata": {},
   "outputs": [],
   "source": [
    "y_test_2 = [[y] for y in y_test]\n",
    "print(y_test_2[:3])\n",
    "print(recommended_titles_3[:3])\n",
    "# evaluate(y_test_2,recommended_titles_3)"
   ]
  },
  {
   "cell_type": "code",
   "execution_count": null,
   "id": "8bb9443c-b0a6-4b8f-86fc-a316bca7ec51",
   "metadata": {},
   "outputs": [],
   "source": [
    "\n",
    "from sklearn.preprocessing import MultiLabelBinarizer\n",
    "def eval_multi(test, pred):\n",
    "    test_multi = [[y] for y in test]\n",
    "    mlb = MultiLabelBinarizer()\n",
    "    \n",
    "    mlb_fit = mlb.fit(test_multi)\n",
    "    print(mlb_fit.classes_)\n",
    "    \n",
    "    test_transformed = mlb_fit.transform(test_multi)\n",
    "    pred_transformed = mlb_fit.transform(pred)\n",
    "    print(test_transformed)\n",
    "    print(pred_transformed)\n",
    "    \n",
    "    evaluate(test_transformed, pred_transformed)\n",
    "\n",
    "eval_multi(y_test, recommended_titles_3)"
   ]
  },
  {
   "cell_type": "code",
   "execution_count": null,
   "id": "62058859-ce15-42e1-abdd-0edc950acb8f",
   "metadata": {},
   "outputs": [],
   "source": [
    "# compare best probability n pred\n",
    "# best_prob = np.array(recommended_titles_3)[:, 0]\n",
    "# evaluate(final_y_pred, best_prob)"
   ]
  },
  {
   "cell_type": "code",
   "execution_count": null,
   "id": "89df0078-dc41-4824-865c-99515f16025e",
   "metadata": {},
   "outputs": [],
   "source": []
  },
  {
   "cell_type": "code",
   "execution_count": null,
   "id": "031ce537-4f44-4f12-b208-e0469b03158f",
   "metadata": {},
   "outputs": [],
   "source": []
  },
  {
   "cell_type": "code",
   "execution_count": null,
   "id": "0519e1e8-0eee-4a68-8c2a-100638db3f87",
   "metadata": {
    "scrolled": true
   },
   "outputs": [],
   "source": [
    "a = list(exploration_1_encoded_df.columns)\n",
    "a.sort()\n",
    "a"
   ]
  },
  {
   "cell_type": "code",
   "execution_count": null,
   "id": "b34712d6-9e1c-410e-85b0-1deda5c13f47",
   "metadata": {},
   "outputs": [],
   "source": [
    "# visualize (only can visualize 1 tree)\n",
    "# from sklearn.tree import export_graphviz\n",
    "\n",
    "# export_graphviz(final_rf,\n",
    "#                 feature_names=exploration_1_encoded_df.columns,\n",
    "#                 filled=True,\n",
    "#                 rounded=True)\n",
    "\n",
    "# os.system('dot -Tpng tree.dot -o tree.png')\n"
   ]
  },
  {
   "cell_type": "markdown",
   "id": "3ef2d859-af97-46b1-b1f9-9d7d4ebd3547",
   "metadata": {},
   "source": [
    "## Post final exploration - 1"
   ]
  },
  {
   "cell_type": "code",
   "execution_count": null,
   "id": "f4a7ba91-c4d0-4cc0-ac92-9f9b56ba044f",
   "metadata": {},
   "outputs": [],
   "source": [
    "pfexp_df = exploration_df_1.copy()\n",
    "\n",
    "pfexp_df = pfexp_df[pfexp_df.columns.drop(list(pfexp_df.filter(regex='Popular IDEs')))]\n",
    "list(pfexp_df.columns)"
   ]
  },
  {
   "cell_type": "code",
   "execution_count": null,
   "id": "bb35d18d-a256-4536-bfb1-e87a290f0322",
   "metadata": {},
   "outputs": [],
   "source": [
    "xcl_loc = filtered_non_binary_cols.copy()\n",
    "xcl_loc.remove('Location')"
   ]
  },
  {
   "cell_type": "code",
   "execution_count": null,
   "id": "747e4ced-f80e-4727-a01a-fd8ff0e2e074",
   "metadata": {},
   "outputs": [],
   "source": [
    "print_all_columns(pfexp_df)"
   ]
  },
  {
   "cell_type": "code",
   "execution_count": null,
   "id": "d5c63c8d-4189-4a11-8de5-9946036fe571",
   "metadata": {},
   "outputs": [],
   "source": [
    "# ordinal encodings\n",
    "ord_encodings = pd.read_csv('ordinal_encodings_2.csv')\n",
    "# print(pfexp_df.Job_Salary.unique())\n",
    "included_columns = ['Age', 'Education level_attainedOrGGtoAttain', 'Coding Experience (in years)', 'Years in ML', \n",
    "                    'Job_Salary']\n",
    "nominal_features_order_dict = {}\n",
    "for col in included_columns:\n",
    "    nominal_features_order_dict[col] = dict(zip(ord_encodings[col], ord_encodings[col+'_encoded']))\n",
    "\n",
    "\n",
    "\n",
    "pfexp_df.replace(nominal_features_order_dict,inplace=True)\n",
    "print_all_columns(pfexp_df)\n",
    "gender_dict = {'Man': 1, 'Woman': 2}\n",
    "pfexp_df.replace(gender_dict,inplace=True)\n",
    "pfexp_df.replace({np.NaN:0},inplace=True)\n",
    "\n",
    "for col in xcl_loc:\n",
    "    print('')\n",
    "    print(col)\n",
    "    print(pfexp_df[col].unique())"
   ]
  },
  {
   "cell_type": "code",
   "execution_count": null,
   "id": "dfd84db9-7f93-4057-ac0d-fd78bf075631",
   "metadata": {},
   "outputs": [],
   "source": [
    "pfexp_df\n",
    "\n",
    "X_train, X_test, y_train, y_test = train_test_split( pfexp_df, Job_title, test_size=0.20, random_state= rng)\n",
    "\n",
    "print( X_train.shape )\n",
    "print( X_test.shape )"
   ]
  },
  {
   "cell_type": "code",
   "execution_count": null,
   "id": "7903c3f0-a3d9-4f63-88fc-8790c5ac7cb9",
   "metadata": {},
   "outputs": [],
   "source": [
    "# Use the random grid to search for best hyperparameters\n",
    "# # First create the base model to tune\n",
    "# rf = RandomForestClassifier()\n",
    "# # Random search of parameters, using 3 fold cross validation, \n",
    "# # search across 100 different combinations, and use all available cores\n",
    "# rf_random = RandomizedSearchCV(estimator = rf, param_distributions = random_grid, n_iter = 30, cv = 3, verbose=2, random_state=42, n_jobs = -1)\n",
    "# # Fit the random search model\n",
    "# rf_random.fit(X_train, y_train)"
   ]
  },
  {
   "cell_type": "code",
   "execution_count": null,
   "id": "cf8e77fc-8549-42e6-824a-2897d19fd93a",
   "metadata": {},
   "outputs": [],
   "source": [
    "# rf_random.best_params_\n"
   ]
  },
  {
   "cell_type": "code",
   "execution_count": null,
   "id": "3d986837-2451-49b5-b5a4-86424a1c29b2",
   "metadata": {},
   "outputs": [],
   "source": [
    "so_called_best_param = {'n_estimators': 1200,\n",
    " 'min_samples_split': 2,\n",
    " 'min_samples_leaf': 2,\n",
    " 'max_features': 'sqrt',\n",
    " 'max_depth': 50,\n",
    " 'bootstrap': False}\n",
    "final_rf = RandomForestClassifier(**so_called_best_param)\n",
    "final_rf"
   ]
  },
  {
   "cell_type": "code",
   "execution_count": null,
   "id": "148aadb7-ac15-4bd5-8309-fe643c997a77",
   "metadata": {},
   "outputs": [],
   "source": [
    "print(X_train.shape)\n",
    "print(y_train.shape)\n",
    "print(X_test.shape)\n",
    "print(y_test.shape)\n",
    "final_rf.fit(X_train, y_train)"
   ]
  },
  {
   "cell_type": "code",
   "execution_count": null,
   "id": "f64890a3-e8d3-446b-9f98-1fdc0fc6b026",
   "metadata": {},
   "outputs": [],
   "source": [
    "final_y_pred = final_rf.predict(X_test)\n",
    "final_y_pred"
   ]
  },
  {
   "cell_type": "code",
   "execution_count": null,
   "id": "887422e3-21f4-4868-9f76-ed19e7a94ac6",
   "metadata": {},
   "outputs": [],
   "source": [
    "evaluate(y_test, final_y_pred)"
   ]
  },
  {
   "cell_type": "code",
   "execution_count": null,
   "id": "6a38afb3-74d5-4d60-a12e-7058ba6a73c0",
   "metadata": {},
   "outputs": [],
   "source": [
    "recommendation_3 = get_x_recommendation(final_rf, X_test, x=3)\n",
    "\n",
    "eval_multi(y_test, recommendation_3)"
   ]
  },
  {
   "cell_type": "code",
   "execution_count": null,
   "id": "d66975bf-0e79-4bb7-bb8c-2861451bab02",
   "metadata": {},
   "outputs": [],
   "source": [
    "# from sklearn.model_selection import GridSearchCV\n",
    "# # Create the parameter grid based on the results of random search \n",
    "# param_grid = {\n",
    "#     'bootstrap': [True, False],\n",
    "#     'max_depth': [40,45,50,55,60],\n",
    "#     'max_features': ['auto', 'sqrt'],\n",
    "#     'min_samples_leaf': [2, 3],\n",
    "#     'min_samples_split': [2, 3],\n",
    "#     'n_estimators': [10,15,20,30,50,1000, 1100, 1150, 1200, 1250]\n",
    "# }\n",
    "# # Create a based model\n",
    "# rf = RandomForestClassifier()\n",
    "# # Instantiate the grid search model\n",
    "# grid_search = GridSearchCV(estimator = rf, param_grid = param_grid, \n",
    "#                           cv = 3, n_jobs = -1, verbose = 2)"
   ]
  },
  {
   "cell_type": "code",
   "execution_count": null,
   "id": "3cffc1c9-8642-4a62-8851-42d0c494033b",
   "metadata": {},
   "outputs": [],
   "source": [
    "# grid_rf = grid_search.fit(X_train, y_train)"
   ]
  },
  {
   "cell_type": "code",
   "execution_count": null,
   "id": "7cc96faf-a4e2-454f-801c-d9a46d2eaa02",
   "metadata": {},
   "outputs": [],
   "source": []
  },
  {
   "cell_type": "code",
   "execution_count": null,
   "id": "954dbeaa-ef3f-4ef2-856f-4e4d663d6148",
   "metadata": {},
   "outputs": [],
   "source": []
  },
  {
   "cell_type": "code",
   "execution_count": null,
   "id": "91970495-d2ff-4e81-8929-609c6c168a87",
   "metadata": {},
   "outputs": [],
   "source": [
    "# grid_rf.best_params_\n",
    "# {'bootstrap': False,\n",
    "#  'max_depth': 55,\n",
    "#  'max_features': 'sqrt',\n",
    "#  'min_samples_leaf': 2,\n",
    "#  'min_samples_split': 3,\n",
    "#  'n_estimators': 1100}"
   ]
  },
  {
   "cell_type": "code",
   "execution_count": null,
   "id": "35c8bb31-f128-4c6d-961f-d34adcdd814a",
   "metadata": {},
   "outputs": [],
   "source": [
    "# from sklearn.model_selection import GridSearchCV\n",
    "# # Create the parameter grid based on the results of random search \n",
    "# param_grid = {\n",
    "#     'bootstrap': [True, False],\n",
    "#     'max_depth': [40,45,50,55,60],\n",
    "#     'max_features': ['sqrt'],\n",
    "#     'min_samples_leaf': [2, 3],\n",
    "#     'min_samples_split': [2, 3],\n",
    "#     'n_estimators': [10,15,20,30,50]\n",
    "# }\n",
    "# # Create a based model\n",
    "# rf = RandomForestClassifier()\n",
    "# # Instantiate the grid search model\n",
    "# grid_search = GridSearchCV(estimator = rf, param_grid = param_grid, \n",
    "#                           cv = 3, n_jobs = -1, verbose = 2)\n",
    "\n",
    "# grid_rf = grid_search.fit(X_train, y_train)\n",
    "# grid_rf"
   ]
  },
  {
   "cell_type": "code",
   "execution_count": null,
   "id": "23301df0-adbe-4fa2-92f1-2607b91c10be",
   "metadata": {},
   "outputs": [],
   "source": [
    "# grid_rf.best_params_\n",
    "\n",
    "# {'bootstrap': False,\n",
    "#  'max_depth': 50,\n",
    "#  'max_features': 'sqrt',\n",
    "#  'min_samples_leaf': 2,\n",
    "#  'min_samples_split': 3,\n",
    "#  'n_estimators': 50}"
   ]
  },
  {
   "cell_type": "code",
   "execution_count": null,
   "id": "f7dc062a-3a06-470e-8833-ff0f51c503c2",
   "metadata": {},
   "outputs": [],
   "source": [
    "best_grid = {'bootstrap': False,\n",
    " 'max_depth': 50,\n",
    " 'max_features': 'sqrt',\n",
    " 'min_samples_leaf': 2,\n",
    " 'min_samples_split': 3,\n",
    " 'n_estimators': 50}"
   ]
  },
  {
   "cell_type": "code",
   "execution_count": null,
   "id": "78bcb225-0a5f-43e8-b6b4-a011911f073e",
   "metadata": {},
   "outputs": [],
   "source": [
    "best_random = {'bootstrap': False,\n",
    " 'max_depth': 55,\n",
    " 'max_features': 'sqrt',\n",
    " 'min_samples_leaf': 2,\n",
    " 'min_samples_split': 3,\n",
    " 'n_estimators': 1100}"
   ]
  },
  {
   "cell_type": "code",
   "execution_count": null,
   "id": "9e477ff0-f350-4dcf-8a3c-9d5a4ae86c5e",
   "metadata": {},
   "outputs": [],
   "source": []
  },
  {
   "cell_type": "code",
   "execution_count": null,
   "id": "f28610c3-a574-4e90-82a9-49b30229ee98",
   "metadata": {},
   "outputs": [],
   "source": [
    "best_grid_forest = RandomForest_HyperParameter_Evaluator(best_grid, X_train, y_train, X_test, y_test)\n",
    "# best_grid_forest.feature_importances_"
   ]
  },
  {
   "cell_type": "code",
   "execution_count": null,
   "id": "d587d0a2-3015-480b-90a8-52eef240db37",
   "metadata": {},
   "outputs": [],
   "source": [
    "RandomForest_HyperParameter_Evaluator(best_random, X_train, y_train, X_test, y_test)\n"
   ]
  },
  {
   "cell_type": "code",
   "execution_count": null,
   "id": "9e67cfa6-8414-4de9-9679-875dec7efee2",
   "metadata": {},
   "outputs": [],
   "source": []
  },
  {
   "cell_type": "code",
   "execution_count": null,
   "id": "2482376f-9b16-4208-befa-9a553ef24625",
   "metadata": {},
   "outputs": [],
   "source": []
  },
  {
   "cell_type": "code",
   "execution_count": null,
   "id": "4d9a4814-32a1-42b1-a6ea-e1eff19068ae",
   "metadata": {},
   "outputs": [],
   "source": [
    "X_train.sample()"
   ]
  },
  {
   "cell_type": "code",
   "execution_count": null,
   "id": "1ce17108-392c-4c08-9dcb-7fd66dc4f87e",
   "metadata": {},
   "outputs": [],
   "source": [
    "best_random_2 = best_random.copy()\n",
    "print(best_random_2)\n",
    "best_random_2['max_depth'] = 15\n",
    "best_random_2['max_features'] = 5\n",
    "print(best_random_2)\n",
    "RandomForest_HyperParameter_Evaluator(best_random_2, X_train, y_train, X_test, y_test)\n"
   ]
  },
  {
   "cell_type": "code",
   "execution_count": null,
   "id": "91715ba3-8414-4f73-aea8-39e621cc9875",
   "metadata": {},
   "outputs": [],
   "source": [
    "for col in X_train.columns:\n",
    "    if len(X_train[col].unique()) == 1:\n",
    "        print(\"this fraud: \", col)"
   ]
  }
 ],
 "metadata": {
  "kernelspec": {
   "display_name": "Python 3 (ipykernel)",
   "language": "python",
   "name": "python3"
  },
  "language_info": {
   "codemirror_mode": {
    "name": "ipython",
    "version": 3
   },
   "file_extension": ".py",
   "mimetype": "text/x-python",
   "name": "python",
   "nbconvert_exporter": "python",
   "pygments_lexer": "ipython3",
   "version": "3.11.6"
  }
 },
 "nbformat": 4,
 "nbformat_minor": 5
}
