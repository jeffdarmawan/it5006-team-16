{
 "cells": [
  {
   "cell_type": "code",
   "execution_count": 1,
   "id": "30e9ae97",
   "metadata": {},
   "outputs": [
    {
     "data": {
      "text/plain": [
       "count     70006\n",
       "unique       11\n",
       "top       25-29\n",
       "freq      13414\n",
       "Name: Age, dtype: object"
      ]
     },
     "execution_count": 1,
     "metadata": {},
     "output_type": "execute_result"
    }
   ],
   "source": [
    "import pandas as pd\n",
    "import matplotlib.pyplot as plt\n",
    "df = pd.read_csv('clean_dataset.csv.zip')\n",
    "df.head()\n",
    "# print(df.groupby(['Age']).value_counts())\n",
    "df['Age'].describe()"
   ]
  },
  {
   "cell_type": "code",
   "execution_count": 2,
   "id": "5d5a00b1",
   "metadata": {},
   "outputs": [],
   "source": [
    "cp = df.copy()"
   ]
  },
  {
   "cell_type": "code",
   "execution_count": 3,
   "id": "c4243f30",
   "metadata": {},
   "outputs": [
    {
     "data": {
      "text/plain": [
       "Age\n",
       "18-21    12929\n",
       "22-24    12763\n",
       "25-29    13414\n",
       "30-34     9224\n",
       "35-39     6848\n",
       "40-44     5214\n",
       "45-49     3616\n",
       "50-54     2576\n",
       "55-59     1614\n",
       "60-69     1477\n",
       "70+        331\n",
       "Name: count, dtype: int64"
      ]
     },
     "execution_count": 3,
     "metadata": {},
     "output_type": "execute_result"
    }
   ],
   "source": [
    "df.groupby(['Age'])['Age'].value_counts()"
   ]
  },
  {
   "cell_type": "code",
   "execution_count": 4,
   "id": "debca935",
   "metadata": {},
   "outputs": [
    {
     "ename": "TypeError",
     "evalue": "'Axes' object does not support item assignment",
     "output_type": "error",
     "traceback": [
      "\u001b[0;31m---------------------------------------------------------------------------\u001b[0m",
      "\u001b[0;31mTypeError\u001b[0m                                 Traceback (most recent call last)",
      "Cell \u001b[0;32mIn[4], line 4\u001b[0m\n\u001b[1;32m      1\u001b[0m fig, ax \u001b[38;5;241m=\u001b[39m plt\u001b[38;5;241m.\u001b[39msubplots()\n\u001b[1;32m      3\u001b[0m age_count \u001b[38;5;241m=\u001b[39m df\u001b[38;5;241m.\u001b[39mgroupby([\u001b[38;5;124m'\u001b[39m\u001b[38;5;124mAge\u001b[39m\u001b[38;5;124m'\u001b[39m])[\u001b[38;5;124m'\u001b[39m\u001b[38;5;124mAge\u001b[39m\u001b[38;5;124m'\u001b[39m]\u001b[38;5;241m.\u001b[39mvalue_counts()\n\u001b[0;32m----> 4\u001b[0m \u001b[43max\u001b[49m\u001b[43m[\u001b[49m\u001b[38;5;241;43m0\u001b[39;49m\u001b[43m]\u001b[49m \u001b[38;5;241m=\u001b[39m plt\u001b[38;5;241m.\u001b[39mbar(x\u001b[38;5;241m=\u001b[39mage_count\u001b[38;5;241m.\u001b[39mindex, height\u001b[38;5;241m=\u001b[39mage_count\u001b[38;5;241m.\u001b[39mvalues)\n\u001b[1;32m      6\u001b[0m plt\u001b[38;5;241m.\u001b[39mshow()\n",
      "\u001b[0;31mTypeError\u001b[0m: 'Axes' object does not support item assignment"
     ]
    },
    {
     "data": {
      "image/png": "[encoded data removed]",
      "text/plain": [
       "<Figure size 640x480 with 1 Axes>"
      ]
     },
     "metadata": {},
     "output_type": "display_data"
    }
   ],
   "source": [
    "fig, ax = plt.subplots()\n",
    "\n",
    "age_count = df.groupby(['Age'])['Age'].value_counts()\n",
    "ax[0] = plt.bar(x=age_count.index, height=age_count.values)\n",
    "\n",
    "plt.show()"
   ]
  },
  {
   "cell_type": "code",
   "execution_count": 5,
   "id": "e0a500ea",
   "metadata": {
    "scrolled": true
   },
   "outputs": [
    {
     "data": {
      "text/plain": [
       "Index(['Unnamed: 0', 'Duration', 'Age', 'Gender', 'Country',\n",
       "       'Formal education plan (in 2 yr)', 'Coding experience',\n",
       "       'Machine learning experience', 'Year', 'Hosted notebook products',\n",
       "       'Data products', 'Data visualization libraries', 'Cloud computing',\n",
       "       'Machine learning experiments managing tools',\n",
       "       'Automated machine learning tools', 'Machine learning frameworks',\n",
       "       'Computer vision methods', 'BI tools', 'NLP methods',\n",
       "       'Data science courses', 'IDE', 'Machine learning products',\n",
       "       'Programming language', 'Machine learning algorithms',\n",
       "       'Activity that describes your work',\n",
       "       'Specialized machine learning model traning hardware',\n",
       "       'Favorite media sources on data science topics'],\n",
       "      dtype='object')"
      ]
     },
     "execution_count": 5,
     "metadata": {},
     "output_type": "execute_result"
    }
   ],
   "source": [
    "df.columns\n",
    "# df.head(10)"
   ]
  },
  {
   "cell_type": "code",
   "execution_count": null,
   "id": "14e58f10",
   "metadata": {},
   "outputs": [],
   "source": [
    "df[ 'Programming language'].unique"
   ]
  },
  {
   "cell_type": "markdown",
   "id": "9b576220",
   "metadata": {},
   "source": [
    "1.1 </br>\n",
    "x -> year </br>\n",
    "y -> what we want to show </br>\n",
    "</br>\n",
    "1.2 </br>\n",
    "x -> country / gender / age </br>\n",
    "y -> education / salary </br>\n"
   ]
  }
 ],
 "metadata": {
  "kernelspec": {
   "display_name": "Python 3 (ipykernel)",
   "language": "python",
   "name": "python3"
  },
  "language_info": {
   "codemirror_mode": {
    "name": "ipython",
    "version": 3
   },
   "file_extension": ".py",
   "mimetype": "text/x-python",
   "name": "python",
   "nbconvert_exporter": "python",
   "pygments_lexer": "ipython3",
   "version": "3.11.4"
  }
 },
 "nbformat": 4,
 "nbformat_minor": 5
}
